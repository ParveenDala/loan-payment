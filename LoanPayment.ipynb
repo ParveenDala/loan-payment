{
 "cells": [
  {
   "cell_type": "markdown",
   "metadata": {
    "slideshow": {
     "slide_type": "-"
    }
   },
   "source": [
    "# Loan Payment\n",
    "\n",
    "We have locan payment dataset contains information around 500 people.\n",
    "<br>We would like to perform classification on Loan_status variable that contains three categories namely PAIDOFF, COLLETION AND COLLECTION_PAIDOFF. \n",
    "<br><br>The PAIDOFF category is all about loan paid off by the customers.\n",
    "<br>The COLLECTION is all about the loan is yet to be paid off so bank is collecting money from those customers who seem to be unwilling to repay the loan amount; these customers are apprehended to be defaulters.\n",
    "<br>The next and last category is COLLECTION_PAIDOFF that states that the loan amount was repaid by the customers after conducting Collection drive.\n",
    "\n",
    "<br>The objective is to Classify customers into any of the given categories.\n",
    "<br>This analysis will generate valuable insights for banks to consider which customers they will provide loan to.\n",
    "\n"
   ]
  },
  {
   "cell_type": "markdown",
   "metadata": {},
   "source": [
    "### The Loan Payment dataset contains these attributes:\n",
    "\n",
    "1.\t**Loan_id**        A unique loan number assigned to each loan customers.\n",
    "2.\t**loan_status**    Whether a loan is paid off, in collection, new customer yet to payoff, or paid off after the collection efforts.\n",
    "3.\t**Principal**\t   Basic principal loan amount at the origination terms, could be weekly (7 days), biweekly, and monthly payoff schedule.\n",
    "4.\t**effective_date** When the loan got originated and took effects.\n",
    "5.\t**due_date**\t   Since it’s one-time payoff schedule, each loan has one single due date.\n",
    "6.\t**paidoff_time**   The actual time a customer pays off the loan.\n",
    "7.\t**pastdue_days**   How many days a loan has been past due.\n",
    "8.\t**age**\t           Customer's age.\n",
    "9.\t**education**\t   Customer's education details.\n",
    "10.\t**Gender**\t\t   Gender.\n"
   ]
  },
  {
   "cell_type": "code",
   "execution_count": 233,
   "metadata": {
    "slideshow": {
     "slide_type": "-"
    }
   },
   "outputs": [],
   "source": [
    "#Load dependencies\n",
    "import numpy as np\n",
    "import pandas as pd\n",
    "import pandas_profiling as pdp\n",
    "import matplotlib.pyplot as plt\n",
    "import seaborn as sns\n",
    "# This line tells the notebook to show plots inside of the notebook\n",
    "%matplotlib inline"
   ]
  },
  {
   "cell_type": "markdown",
   "metadata": {},
   "source": [
    "## 1. Loading the data\n",
    "\n",
    "The first step is to load the data we're working with into a pandas DatFrame.\n",
    "\n"
   ]
  },
  {
   "cell_type": "code",
   "execution_count": 283,
   "metadata": {},
   "outputs": [
    {
     "data": {
      "text/html": [
       "<div>\n",
       "<style scoped>\n",
       "    .dataframe tbody tr th:only-of-type {\n",
       "        vertical-align: middle;\n",
       "    }\n",
       "\n",
       "    .dataframe tbody tr th {\n",
       "        vertical-align: top;\n",
       "    }\n",
       "\n",
       "    .dataframe thead th {\n",
       "        text-align: right;\n",
       "    }\n",
       "</style>\n",
       "<table border=\"1\" class=\"dataframe\">\n",
       "  <thead>\n",
       "    <tr style=\"text-align: right;\">\n",
       "      <th></th>\n",
       "      <th>Loan_ID</th>\n",
       "      <th>loan_status</th>\n",
       "      <th>Principal</th>\n",
       "      <th>terms</th>\n",
       "      <th>effective_date</th>\n",
       "      <th>due_date</th>\n",
       "      <th>paid_off_time</th>\n",
       "      <th>past_due_days</th>\n",
       "      <th>age</th>\n",
       "      <th>education</th>\n",
       "      <th>Gender</th>\n",
       "    </tr>\n",
       "  </thead>\n",
       "  <tbody>\n",
       "    <tr>\n",
       "      <th>0</th>\n",
       "      <td>xqd20166231</td>\n",
       "      <td>PAIDOFF</td>\n",
       "      <td>1000</td>\n",
       "      <td>30</td>\n",
       "      <td>2016-09-08</td>\n",
       "      <td>2016-10-07</td>\n",
       "      <td>2016-09-14 19:31:00</td>\n",
       "      <td>NaN</td>\n",
       "      <td>45</td>\n",
       "      <td>High School or Below</td>\n",
       "      <td>male</td>\n",
       "    </tr>\n",
       "    <tr>\n",
       "      <th>1</th>\n",
       "      <td>xqd20168902</td>\n",
       "      <td>PAIDOFF</td>\n",
       "      <td>1000</td>\n",
       "      <td>30</td>\n",
       "      <td>2016-09-08</td>\n",
       "      <td>2016-10-07</td>\n",
       "      <td>2016-10-07 09:00:00</td>\n",
       "      <td>NaN</td>\n",
       "      <td>50</td>\n",
       "      <td>Bechalor</td>\n",
       "      <td>female</td>\n",
       "    </tr>\n",
       "    <tr>\n",
       "      <th>2</th>\n",
       "      <td>xqd20160003</td>\n",
       "      <td>PAIDOFF</td>\n",
       "      <td>1000</td>\n",
       "      <td>30</td>\n",
       "      <td>2016-09-08</td>\n",
       "      <td>2016-10-07</td>\n",
       "      <td>2016-09-25 16:58:00</td>\n",
       "      <td>NaN</td>\n",
       "      <td>33</td>\n",
       "      <td>Bechalor</td>\n",
       "      <td>female</td>\n",
       "    </tr>\n",
       "    <tr>\n",
       "      <th>3</th>\n",
       "      <td>xqd20160004</td>\n",
       "      <td>PAIDOFF</td>\n",
       "      <td>1000</td>\n",
       "      <td>15</td>\n",
       "      <td>2016-09-08</td>\n",
       "      <td>2016-09-22</td>\n",
       "      <td>2016-09-22 20:00:00</td>\n",
       "      <td>NaN</td>\n",
       "      <td>27</td>\n",
       "      <td>college</td>\n",
       "      <td>male</td>\n",
       "    </tr>\n",
       "    <tr>\n",
       "      <th>4</th>\n",
       "      <td>xqd20160005</td>\n",
       "      <td>PAIDOFF</td>\n",
       "      <td>1000</td>\n",
       "      <td>30</td>\n",
       "      <td>2016-09-09</td>\n",
       "      <td>2016-10-08</td>\n",
       "      <td>2016-09-23 21:36:00</td>\n",
       "      <td>NaN</td>\n",
       "      <td>28</td>\n",
       "      <td>college</td>\n",
       "      <td>female</td>\n",
       "    </tr>\n",
       "  </tbody>\n",
       "</table>\n",
       "</div>"
      ],
      "text/plain": [
       "       Loan_ID loan_status  Principal  terms effective_date   due_date  \\\n",
       "0  xqd20166231     PAIDOFF       1000     30     2016-09-08 2016-10-07   \n",
       "1  xqd20168902     PAIDOFF       1000     30     2016-09-08 2016-10-07   \n",
       "2  xqd20160003     PAIDOFF       1000     30     2016-09-08 2016-10-07   \n",
       "3  xqd20160004     PAIDOFF       1000     15     2016-09-08 2016-09-22   \n",
       "4  xqd20160005     PAIDOFF       1000     30     2016-09-09 2016-10-08   \n",
       "\n",
       "        paid_off_time  past_due_days  age             education  Gender  \n",
       "0 2016-09-14 19:31:00            NaN   45  High School or Below    male  \n",
       "1 2016-10-07 09:00:00            NaN   50              Bechalor  female  \n",
       "2 2016-09-25 16:58:00            NaN   33              Bechalor  female  \n",
       "3 2016-09-22 20:00:00            NaN   27               college    male  \n",
       "4 2016-09-23 21:36:00            NaN   28               college  female  "
      ]
     },
     "execution_count": 283,
     "metadata": {},
     "output_type": "execute_result"
    }
   ],
   "source": [
    "#loading and showing head data\n",
    "df = pd.read_csv('data.csv', na_values=['NA'], parse_dates=['effective_date','due_date','paid_off_time'])\n",
    "df.head(5)"
   ]
  },
  {
   "cell_type": "code",
   "execution_count": 235,
   "metadata": {
    "scrolled": true
   },
   "outputs": [
    {
     "name": "stdout",
     "output_type": "stream",
     "text": [
      "<class 'pandas.core.frame.DataFrame'>\n",
      "RangeIndex: 500 entries, 0 to 499\n",
      "Data columns (total 11 columns):\n",
      "Loan_ID           500 non-null object\n",
      "loan_status       500 non-null object\n",
      "Principal         500 non-null int64\n",
      "terms             500 non-null int64\n",
      "effective_date    500 non-null datetime64[ns]\n",
      "due_date          500 non-null datetime64[ns]\n",
      "paid_off_time     400 non-null datetime64[ns]\n",
      "past_due_days     200 non-null float64\n",
      "age               500 non-null int64\n",
      "education         500 non-null object\n",
      "Gender            500 non-null object\n",
      "dtypes: datetime64[ns](3), float64(1), int64(3), object(4)\n",
      "memory usage: 43.0+ KB\n"
     ]
    }
   ],
   "source": [
    "df.info()"
   ]
  },
  {
   "cell_type": "markdown",
   "metadata": {},
   "source": [
    "## 2. Understanding and cleaning the data\n",
    "\n",
    "The dataset contains some missing and wrong-formatted data which has to be cleaned up first.<br><br>Generally, we're looking to answer the following questions:<br>\n",
    "**Is there anything wrong with the data?**<br>\n",
    "**Are there any quirks with the data?**<br>\n",
    "**Do we need to fix or remove any of the data?**<br><br>"
   ]
  },
  {
   "cell_type": "code",
   "execution_count": 284,
   "metadata": {},
   "outputs": [],
   "source": [
    "#Change column names to lower case.\n",
    "df.columns = df.columns.str.lower()\n",
    "\n",
    "#Remove time from past_due_days column\n",
    "df.paid_off_time = df.paid_off_time.dt.normalize()\n",
    "\n",
    "#Missing past_due_days values\n",
    "df.past_due_days.fillna(((df.paid_off_time - df.due_date).dt.days), inplace=True)\n",
    "\n",
    "#Using proper data types \n",
    "df.past_due_days = df.past_due_days.astype(int)\n",
    "df.age = df.age.astype(int)\n",
    "df[['loan_status','education', 'gender']] = df[['loan_status','education', 'gender']].apply(lambda x: x.astype('category'))\n"
   ]
  },
  {
   "cell_type": "code",
   "execution_count": 237,
   "metadata": {},
   "outputs": [
    {
     "name": "stdout",
     "output_type": "stream",
     "text": [
      "<class 'pandas.core.frame.DataFrame'>\n",
      "RangeIndex: 500 entries, 0 to 499\n",
      "Data columns (total 11 columns):\n",
      "loan_id           500 non-null object\n",
      "loan_status       500 non-null category\n",
      "principal         500 non-null int64\n",
      "terms             500 non-null int64\n",
      "effective_date    500 non-null datetime64[ns]\n",
      "due_date          500 non-null datetime64[ns]\n",
      "paid_off_time     400 non-null datetime64[ns]\n",
      "past_due_days     500 non-null int32\n",
      "age               500 non-null int32\n",
      "education         500 non-null category\n",
      "gender            500 non-null category\n",
      "dtypes: category(3), datetime64[ns](3), int32(2), int64(2), object(1)\n",
      "memory usage: 29.3+ KB\n"
     ]
    }
   ],
   "source": [
    "df.info()"
   ]
  },
  {
   "cell_type": "code",
   "execution_count": 238,
   "metadata": {},
   "outputs": [
    {
     "data": {
      "text/html": [
       "<div>\n",
       "<style scoped>\n",
       "    .dataframe tbody tr th:only-of-type {\n",
       "        vertical-align: middle;\n",
       "    }\n",
       "\n",
       "    .dataframe tbody tr th {\n",
       "        vertical-align: top;\n",
       "    }\n",
       "\n",
       "    .dataframe thead th {\n",
       "        text-align: right;\n",
       "    }\n",
       "</style>\n",
       "<table border=\"1\" class=\"dataframe\">\n",
       "  <thead>\n",
       "    <tr style=\"text-align: right;\">\n",
       "      <th></th>\n",
       "      <th>loan_id</th>\n",
       "      <th>loan_status</th>\n",
       "      <th>principal</th>\n",
       "      <th>terms</th>\n",
       "      <th>effective_date</th>\n",
       "      <th>due_date</th>\n",
       "      <th>paid_off_time</th>\n",
       "      <th>past_due_days</th>\n",
       "      <th>age</th>\n",
       "      <th>education</th>\n",
       "      <th>gender</th>\n",
       "    </tr>\n",
       "  </thead>\n",
       "  <tbody>\n",
       "    <tr>\n",
       "      <th>0</th>\n",
       "      <td>xqd20166231</td>\n",
       "      <td>PAIDOFF</td>\n",
       "      <td>1000</td>\n",
       "      <td>30</td>\n",
       "      <td>2016-09-08</td>\n",
       "      <td>2016-10-07</td>\n",
       "      <td>2016-09-14</td>\n",
       "      <td>-23</td>\n",
       "      <td>45</td>\n",
       "      <td>High School or Below</td>\n",
       "      <td>male</td>\n",
       "    </tr>\n",
       "    <tr>\n",
       "      <th>1</th>\n",
       "      <td>xqd20168902</td>\n",
       "      <td>PAIDOFF</td>\n",
       "      <td>1000</td>\n",
       "      <td>30</td>\n",
       "      <td>2016-09-08</td>\n",
       "      <td>2016-10-07</td>\n",
       "      <td>2016-10-07</td>\n",
       "      <td>0</td>\n",
       "      <td>50</td>\n",
       "      <td>Bechalor</td>\n",
       "      <td>female</td>\n",
       "    </tr>\n",
       "    <tr>\n",
       "      <th>2</th>\n",
       "      <td>xqd20160003</td>\n",
       "      <td>PAIDOFF</td>\n",
       "      <td>1000</td>\n",
       "      <td>30</td>\n",
       "      <td>2016-09-08</td>\n",
       "      <td>2016-10-07</td>\n",
       "      <td>2016-09-25</td>\n",
       "      <td>-12</td>\n",
       "      <td>33</td>\n",
       "      <td>Bechalor</td>\n",
       "      <td>female</td>\n",
       "    </tr>\n",
       "    <tr>\n",
       "      <th>3</th>\n",
       "      <td>xqd20160004</td>\n",
       "      <td>PAIDOFF</td>\n",
       "      <td>1000</td>\n",
       "      <td>15</td>\n",
       "      <td>2016-09-08</td>\n",
       "      <td>2016-09-22</td>\n",
       "      <td>2016-09-22</td>\n",
       "      <td>0</td>\n",
       "      <td>27</td>\n",
       "      <td>college</td>\n",
       "      <td>male</td>\n",
       "    </tr>\n",
       "    <tr>\n",
       "      <th>4</th>\n",
       "      <td>xqd20160005</td>\n",
       "      <td>PAIDOFF</td>\n",
       "      <td>1000</td>\n",
       "      <td>30</td>\n",
       "      <td>2016-09-09</td>\n",
       "      <td>2016-10-08</td>\n",
       "      <td>2016-09-23</td>\n",
       "      <td>-15</td>\n",
       "      <td>28</td>\n",
       "      <td>college</td>\n",
       "      <td>female</td>\n",
       "    </tr>\n",
       "  </tbody>\n",
       "</table>\n",
       "</div>"
      ],
      "text/plain": [
       "       loan_id loan_status  principal  terms effective_date   due_date  \\\n",
       "0  xqd20166231     PAIDOFF       1000     30     2016-09-08 2016-10-07   \n",
       "1  xqd20168902     PAIDOFF       1000     30     2016-09-08 2016-10-07   \n",
       "2  xqd20160003     PAIDOFF       1000     30     2016-09-08 2016-10-07   \n",
       "3  xqd20160004     PAIDOFF       1000     15     2016-09-08 2016-09-22   \n",
       "4  xqd20160005     PAIDOFF       1000     30     2016-09-09 2016-10-08   \n",
       "\n",
       "  paid_off_time  past_due_days  age             education  gender  \n",
       "0    2016-09-14            -23   45  High School or Below    male  \n",
       "1    2016-10-07              0   50              Bechalor  female  \n",
       "2    2016-09-25            -12   33              Bechalor  female  \n",
       "3    2016-09-22              0   27               college    male  \n",
       "4    2016-09-23            -15   28               college  female  "
      ]
     },
     "execution_count": 238,
     "metadata": {},
     "output_type": "execute_result"
    }
   ],
   "source": [
    "df.head(5)"
   ]
  },
  {
   "cell_type": "markdown",
   "metadata": {},
   "source": [
    "## 3. Pandas Profiling\n",
    "\n",
    "Generates profile reports from a pandas DataFrame.<br><br>For each column the following statistics - if relevant for the column type - are presented in an interactive HTML report:<br>\n",
    "**Essentials:** type, unique values, missing values <br>\n",
    "**Quantile statistics:** like minimum value, Q1, median, Q3, maximum, range, interquartile range <br>\n",
    "**Descriptive statistics:** like mean, mode, standard deviation, sum, median absolute deviation, coefficient of variation, kurtosis, skewness <br>\n",
    "**Correlations:** highlighting of highly correlated variables, Spearman and Pearson matrixes <br>\n",
    "**Most frequent values** <br>\n",
    "**Histogram**<br><br>"
   ]
  },
  {
   "cell_type": "code",
   "execution_count": 89,
   "metadata": {},
   "outputs": [],
   "source": [
    "#Generate profile reports\n",
    "profileReport = pdp.ProfileReport(df)\n",
    "#Import profile report\n",
    "profileReport.to_file(outputfile=\"profile.html\")\n",
    "#profileReport"
   ]
  },
  {
   "cell_type": "markdown",
   "metadata": {},
   "source": [
    "## 4. Distribution of data\n",
    "\n",
    "it's always a good idea to look at the distribution of our data — especially the outliers.<br>\n",
    "Let's start by printing out some summary statistics about the data set.<br><br>"
   ]
  },
  {
   "cell_type": "code",
   "execution_count": 239,
   "metadata": {
    "scrolled": true
   },
   "outputs": [
    {
     "data": {
      "text/html": [
       "<div>\n",
       "<style scoped>\n",
       "    .dataframe tbody tr th:only-of-type {\n",
       "        vertical-align: middle;\n",
       "    }\n",
       "\n",
       "    .dataframe tbody tr th {\n",
       "        vertical-align: top;\n",
       "    }\n",
       "\n",
       "    .dataframe thead th {\n",
       "        text-align: right;\n",
       "    }\n",
       "</style>\n",
       "<table border=\"1\" class=\"dataframe\">\n",
       "  <thead>\n",
       "    <tr style=\"text-align: right;\">\n",
       "      <th></th>\n",
       "      <th>principal</th>\n",
       "      <th>terms</th>\n",
       "      <th>past_due_days</th>\n",
       "      <th>age</th>\n",
       "    </tr>\n",
       "  </thead>\n",
       "  <tbody>\n",
       "    <tr>\n",
       "      <th>count</th>\n",
       "      <td>500.000000</td>\n",
       "      <td>500.000000</td>\n",
       "      <td>500.000000</td>\n",
       "      <td>500.000000</td>\n",
       "    </tr>\n",
       "    <tr>\n",
       "      <th>mean</th>\n",
       "      <td>943.200000</td>\n",
       "      <td>22.824000</td>\n",
       "      <td>12.692000</td>\n",
       "      <td>31.116000</td>\n",
       "    </tr>\n",
       "    <tr>\n",
       "      <th>std</th>\n",
       "      <td>115.240274</td>\n",
       "      <td>8.000064</td>\n",
       "      <td>26.891699</td>\n",
       "      <td>6.084784</td>\n",
       "    </tr>\n",
       "    <tr>\n",
       "      <th>min</th>\n",
       "      <td>300.000000</td>\n",
       "      <td>7.000000</td>\n",
       "      <td>-28.000000</td>\n",
       "      <td>18.000000</td>\n",
       "    </tr>\n",
       "    <tr>\n",
       "      <th>25%</th>\n",
       "      <td>1000.000000</td>\n",
       "      <td>15.000000</td>\n",
       "      <td>-1.000000</td>\n",
       "      <td>27.000000</td>\n",
       "    </tr>\n",
       "    <tr>\n",
       "      <th>50%</th>\n",
       "      <td>1000.000000</td>\n",
       "      <td>30.000000</td>\n",
       "      <td>0.000000</td>\n",
       "      <td>30.000000</td>\n",
       "    </tr>\n",
       "    <tr>\n",
       "      <th>75%</th>\n",
       "      <td>1000.000000</td>\n",
       "      <td>30.000000</td>\n",
       "      <td>12.000000</td>\n",
       "      <td>35.000000</td>\n",
       "    </tr>\n",
       "    <tr>\n",
       "      <th>max</th>\n",
       "      <td>1000.000000</td>\n",
       "      <td>30.000000</td>\n",
       "      <td>76.000000</td>\n",
       "      <td>51.000000</td>\n",
       "    </tr>\n",
       "  </tbody>\n",
       "</table>\n",
       "</div>"
      ],
      "text/plain": [
       "         principal       terms  past_due_days         age\n",
       "count   500.000000  500.000000     500.000000  500.000000\n",
       "mean    943.200000   22.824000      12.692000   31.116000\n",
       "std     115.240274    8.000064      26.891699    6.084784\n",
       "min     300.000000    7.000000     -28.000000   18.000000\n",
       "25%    1000.000000   15.000000      -1.000000   27.000000\n",
       "50%    1000.000000   30.000000       0.000000   30.000000\n",
       "75%    1000.000000   30.000000      12.000000   35.000000\n",
       "max    1000.000000   30.000000      76.000000   51.000000"
      ]
     },
     "execution_count": 239,
     "metadata": {},
     "output_type": "execute_result"
    }
   ],
   "source": [
    "df.describe()"
   ]
  },
  {
   "cell_type": "markdown",
   "metadata": {},
   "source": [
    "### Let us generate some correlation plots of the features to see how related one feature is to the next. To do so, we will use the Seaborn plotting package which allows us to plot heatmaps very conveniently as follows\n"
   ]
  },
  {
   "cell_type": "code",
   "execution_count": 241,
   "metadata": {},
   "outputs": [
    {
     "data": {
      "image/png": "[encoded data removed]",
      "text/plain": [
       "<matplotlib.figure.Figure at 0x2923ed484a8>"
      ]
     },
     "metadata": {},
     "output_type": "display_data"
    }
   ],
   "source": [
    "plt.figure(figsize=(10,8))\n",
    "plt.title('Pearson Correlation of Features', y=1.05, size=20, color='R')\n",
    "sns.heatmap(df.corr(),linewidths=0.1,vmax=1.0, \n",
    "            square=True, cmap=plt.cm.RdBu_r, linecolor='white', annot=True)\n",
    "plt.show()"
   ]
  },
  {
   "cell_type": "markdown",
   "metadata": {},
   "source": [
    "<br>\n",
    "## 5. Exploratory data analysis\n",
    "\n",
    "<br>Data cleaning step is completed now we can start analyzing the data.<br>Exploratory analysis is the step where we start delving deeper into the data set beyond the outliers and errors. This is the stage where we plot all the data in as many ways as possible.<br><br>\n",
    "# 5.1 Loan Status\n",
    "## 5.1.1 Find number of customers in each category"
   ]
  },
  {
   "cell_type": "code",
   "execution_count": 242,
   "metadata": {},
   "outputs": [
    {
     "data": {
      "text/plain": [
       "loan_status\n",
       "COLLECTION            100\n",
       "COLLECTION_PAIDOFF    100\n",
       "PAIDOFF               300\n",
       "Name: loan_id, dtype: int64"
      ]
     },
     "execution_count": 242,
     "metadata": {},
     "output_type": "execute_result"
    }
   ],
   "source": [
    "loanStatus = df.groupby(['loan_status'])['loan_id'].count()\n",
    "loanStatus"
   ]
  },
  {
   "cell_type": "code",
   "execution_count": 243,
   "metadata": {},
   "outputs": [
    {
     "data": {
      "image/png": "[encoded data removed]",
      "text/plain": [
       "<matplotlib.figure.Figure at 0x2923ed486d8>"
      ]
     },
     "metadata": {},
     "output_type": "display_data"
    }
   ],
   "source": [
    "fig = plt.figure(figsize=[20, 20])\n",
    "ax = fig.add_subplot(221)\n",
    "ax.pie(loanStatus, labeldistance=1.1, labels=loanStatus.index, startangle=95, autopct='%1.1f%%', shadow=True)\n",
    "ax.set_title(\"Number of customers in each category\", fontsize=20);\n",
    "plt.gcf().gca().add_artist(plt.Circle( (0,0), 0.2, color='white'))\n",
    "plt.show()"
   ]
  },
  {
   "cell_type": "markdown",
   "metadata": {},
   "source": [
    "### 60% of customer loans are paid back while 20% is yet to be paid off.<br><br> "
   ]
  },
  {
   "cell_type": "markdown",
   "metadata": {},
   "source": [
    "## 5.1.2 Loan status w.r.t. loan amount"
   ]
  },
  {
   "cell_type": "code",
   "execution_count": 244,
   "metadata": {},
   "outputs": [
    {
     "data": {
      "image/png": "[encoded data removed]",
      "text/plain": [
       "<matplotlib.figure.Figure at 0x2923eeac160>"
      ]
     },
     "metadata": {},
     "output_type": "display_data"
    }
   ],
   "source": [
    "sns.boxplot(x='loan_status', y='principal', data=df)\n",
    "plt.show()"
   ]
  },
  {
   "cell_type": "markdown",
   "metadata": {},
   "source": [
    "## 5.1.3 Loan status w.r.t. customer's age"
   ]
  },
  {
   "cell_type": "code",
   "execution_count": 245,
   "metadata": {},
   "outputs": [
    {
     "data": {
      "image/png": "[encoded data removed]",
      "text/plain": [
       "<matplotlib.figure.Figure at 0x2923eede6d8>"
      ]
     },
     "metadata": {},
     "output_type": "display_data"
    }
   ],
   "source": [
    "sns.boxplot(x='loan_status', y='age', data=df)\n",
    "plt.show()"
   ]
  },
  {
   "cell_type": "code",
   "execution_count": 246,
   "metadata": {},
   "outputs": [
    {
     "data": {
      "image/png": "[encoded data removed]",
      "text/plain": [
       "<matplotlib.figure.Figure at 0x2923eedeb38>"
      ]
     },
     "metadata": {},
     "output_type": "display_data"
    }
   ],
   "source": [
    "sns.boxplot(x='loan_status', y='past_due_days', data=df)\n",
    "plt.show()"
   ]
  },
  {
   "cell_type": "markdown",
   "metadata": {},
   "source": [
    "## 5.1.4 Loan count and status w.r.t. gender"
   ]
  },
  {
   "cell_type": "code",
   "execution_count": 247,
   "metadata": {},
   "outputs": [
    {
     "data": {
      "text/plain": [
       "gender\n",
       "female     77\n",
       "male      423\n",
       "Name: gender, dtype: int64"
      ]
     },
     "execution_count": 247,
     "metadata": {},
     "output_type": "execute_result"
    }
   ],
   "source": [
    "loanCountsGender = df.groupby('gender')['gender'].count()\n",
    "loanCountsGender"
   ]
  },
  {
   "cell_type": "code",
   "execution_count": 248,
   "metadata": {},
   "outputs": [
    {
     "data": {
      "text/html": [
       "<div>\n",
       "<style scoped>\n",
       "    .dataframe tbody tr th:only-of-type {\n",
       "        vertical-align: middle;\n",
       "    }\n",
       "\n",
       "    .dataframe tbody tr th {\n",
       "        vertical-align: top;\n",
       "    }\n",
       "\n",
       "    .dataframe thead th {\n",
       "        text-align: right;\n",
       "    }\n",
       "</style>\n",
       "<table border=\"1\" class=\"dataframe\">\n",
       "  <thead>\n",
       "    <tr style=\"text-align: right;\">\n",
       "      <th>gender</th>\n",
       "      <th>female</th>\n",
       "      <th>male</th>\n",
       "    </tr>\n",
       "    <tr>\n",
       "      <th>loan_status</th>\n",
       "      <th></th>\n",
       "      <th></th>\n",
       "    </tr>\n",
       "  </thead>\n",
       "  <tbody>\n",
       "    <tr>\n",
       "      <th>COLLECTION</th>\n",
       "      <td>10</td>\n",
       "      <td>90</td>\n",
       "    </tr>\n",
       "    <tr>\n",
       "      <th>COLLECTION_PAIDOFF</th>\n",
       "      <td>14</td>\n",
       "      <td>86</td>\n",
       "    </tr>\n",
       "    <tr>\n",
       "      <th>PAIDOFF</th>\n",
       "      <td>53</td>\n",
       "      <td>247</td>\n",
       "    </tr>\n",
       "  </tbody>\n",
       "</table>\n",
       "</div>"
      ],
      "text/plain": [
       "gender              female  male\n",
       "loan_status                     \n",
       "COLLECTION              10    90\n",
       "COLLECTION_PAIDOFF      14    86\n",
       "PAIDOFF                 53   247"
      ]
     },
     "execution_count": 248,
     "metadata": {},
     "output_type": "execute_result"
    }
   ],
   "source": [
    "loanStatusGender = df.groupby(['loan_status','gender'])['gender'].count().unstack(level=1)\n",
    "loanStatusGender"
   ]
  },
  {
   "cell_type": "code",
   "execution_count": 249,
   "metadata": {},
   "outputs": [
    {
     "data": {
      "image/png": "[encoded data removed]",
      "text/plain": [
       "<matplotlib.figure.Figure at 0x2923f34f240>"
      ]
     },
     "metadata": {},
     "output_type": "display_data"
    }
   ],
   "source": [
    "fig = plt.figure(figsize=[16, 16])\n",
    "ax = fig.add_subplot(221)\n",
    "ax.pie(loanCountsGender, labeldistance=1.1, labels=loanCountsGender.index, startangle=95, autopct='%1.1f%%', shadow=True)\n",
    "ax.set_title(\"Loan count w.r.t. gender\", fontsize=14);\n",
    "plt.gcf().gca().add_artist(plt.Circle( (0,0), 0.2, color='white'))\n",
    "\n",
    "ax2 = fig.add_subplot(222)\n",
    "ax2.set_ylabel('Count')\n",
    "loanStatusGender.plot(kind='bar', ax=ax2, title =\"Loan status w.r.t. gender\",  legend=True, fontsize=12)\n",
    "plt.show()"
   ]
  },
  {
   "cell_type": "markdown",
   "metadata": {},
   "source": [
    "## 5.1.5 Loan count and status w.r.t. education qualification"
   ]
  },
  {
   "cell_type": "code",
   "execution_count": 250,
   "metadata": {},
   "outputs": [
    {
     "data": {
      "text/plain": [
       "education\n",
       "Bechalor                 67\n",
       "High School or Below    209\n",
       "Master or Above           4\n",
       "college                 220\n",
       "Name: education, dtype: int64"
      ]
     },
     "execution_count": 250,
     "metadata": {},
     "output_type": "execute_result"
    }
   ],
   "source": [
    "loanCountsEducation = df.groupby('education')['education'].count()\n",
    "loanCountsEducation"
   ]
  },
  {
   "cell_type": "code",
   "execution_count": 251,
   "metadata": {},
   "outputs": [
    {
     "data": {
      "text/html": [
       "<div>\n",
       "<style scoped>\n",
       "    .dataframe tbody tr th:only-of-type {\n",
       "        vertical-align: middle;\n",
       "    }\n",
       "\n",
       "    .dataframe tbody tr th {\n",
       "        vertical-align: top;\n",
       "    }\n",
       "\n",
       "    .dataframe thead th {\n",
       "        text-align: right;\n",
       "    }\n",
       "</style>\n",
       "<table border=\"1\" class=\"dataframe\">\n",
       "  <thead>\n",
       "    <tr style=\"text-align: right;\">\n",
       "      <th>education</th>\n",
       "      <th>Bechalor</th>\n",
       "      <th>High School or Below</th>\n",
       "      <th>Master or Above</th>\n",
       "      <th>college</th>\n",
       "    </tr>\n",
       "    <tr>\n",
       "      <th>loan_status</th>\n",
       "      <th></th>\n",
       "      <th></th>\n",
       "      <th></th>\n",
       "      <th></th>\n",
       "    </tr>\n",
       "  </thead>\n",
       "  <tbody>\n",
       "    <tr>\n",
       "      <th>COLLECTION</th>\n",
       "      <td>11.0</td>\n",
       "      <td>49.0</td>\n",
       "      <td>1.0</td>\n",
       "      <td>39.0</td>\n",
       "    </tr>\n",
       "    <tr>\n",
       "      <th>COLLECTION_PAIDOFF</th>\n",
       "      <td>15.0</td>\n",
       "      <td>37.0</td>\n",
       "      <td>NaN</td>\n",
       "      <td>48.0</td>\n",
       "    </tr>\n",
       "    <tr>\n",
       "      <th>PAIDOFF</th>\n",
       "      <td>41.0</td>\n",
       "      <td>123.0</td>\n",
       "      <td>3.0</td>\n",
       "      <td>133.0</td>\n",
       "    </tr>\n",
       "  </tbody>\n",
       "</table>\n",
       "</div>"
      ],
      "text/plain": [
       "education           Bechalor  High School or Below  Master or Above  college\n",
       "loan_status                                                                 \n",
       "COLLECTION              11.0                  49.0              1.0     39.0\n",
       "COLLECTION_PAIDOFF      15.0                  37.0              NaN     48.0\n",
       "PAIDOFF                 41.0                 123.0              3.0    133.0"
      ]
     },
     "execution_count": 251,
     "metadata": {},
     "output_type": "execute_result"
    }
   ],
   "source": [
    "loanStatusEducation = df.groupby(['loan_status','education'])['education'].count().unstack(level=1)\n",
    "loanStatusEducation"
   ]
  },
  {
   "cell_type": "code",
   "execution_count": 252,
   "metadata": {},
   "outputs": [
    {
     "data": {
      "image/png": "[encoded data removed]",
      "text/plain": [
       "<matplotlib.figure.Figure at 0x2923f39d0b8>"
      ]
     },
     "metadata": {},
     "output_type": "display_data"
    }
   ],
   "source": [
    "fig = plt.figure(figsize=[16, 16])\n",
    "ax = fig.add_subplot(221)\n",
    "ax.pie(loanCountsEducation, labeldistance=1.1, labels=loanCountsEducation.index, startangle=95, autopct='%1.1f%%', shadow=True)\n",
    "ax.set_title(\"Loan count w.r.t. education\", fontsize=14);\n",
    "plt.gcf().gca().add_artist(plt.Circle( (0,0), 0.2, color='white'))\n",
    "\n",
    "ax2 = fig.add_subplot(222)\n",
    "ax2.set_ylabel('Count')\n",
    "loanStatusEducation.plot(kind='bar', ax=ax2, title =\"Loan status w.r.t. education\",  legend=True, fontsize=12)\n",
    "plt.show()"
   ]
  },
  {
   "cell_type": "markdown",
   "metadata": {},
   "source": [
    "# <br>"
   ]
  },
  {
   "cell_type": "markdown",
   "metadata": {},
   "source": [
    "# 6. Logistic Model Machine Learning"
   ]
  },
  {
   "cell_type": "code",
   "execution_count": 285,
   "metadata": {},
   "outputs": [],
   "source": [
    "#Preparing dataset\n",
    "df.drop(columns=['effective_date','due_date','paid_off_time'], inplace=True)\n",
    "df.loan_status = df.loan_status.astype('category').cat.codes\n",
    "dfX = pd.get_dummies(df, columns=['education','gender'])\n",
    "dfX.drop(columns=['loan_id','loan_status'], inplace=True)"
   ]
  },
  {
   "cell_type": "code",
   "execution_count": 286,
   "metadata": {},
   "outputs": [],
   "source": [
    "from sklearn.cross_validation import train_test_split\n",
    "y = df.loan_status\n",
    "X = dfX\n",
    "#Splitting the data into train and test with 70:30 ratio\n",
    "xTrain, xTest, yTrain, yTest = train_test_split(X, y, test_size=0.30)"
   ]
  },
  {
   "cell_type": "code",
   "execution_count": 287,
   "metadata": {},
   "outputs": [
    {
     "data": {
      "text/plain": [
       "LogisticRegression(C=0.1, class_weight=None, dual=False, fit_intercept=True,\n",
       "          intercept_scaling=1, max_iter=100, multi_class='ovr', n_jobs=1,\n",
       "          penalty='l2', random_state=None, solver='liblinear', tol=0.0001,\n",
       "          verbose=0, warm_start=False)"
      ]
     },
     "execution_count": 287,
     "metadata": {},
     "output_type": "execute_result"
    }
   ],
   "source": [
    "#Building Logistic Regression Model\n",
    "from sklearn.linear_model import LogisticRegression\n",
    "from sklearn import metrics\n",
    "logReg = LogisticRegression(C=.1)\n",
    "\n",
    "#Fitting the model with train data\n",
    "logReg.fit(xTrain, yTrain)"
   ]
  },
  {
   "cell_type": "code",
   "execution_count": 288,
   "metadata": {},
   "outputs": [],
   "source": [
    "#Applying trained model on test and train data\n",
    "yLogPredTest = logReg.predict(xTest)\n",
    "yLogPredTraing = logReg.predict(xTrain)"
   ]
  },
  {
   "cell_type": "code",
   "execution_count": 289,
   "metadata": {},
   "outputs": [
    {
     "data": {
      "text/plain": [
       "0.9066666666666666"
      ]
     },
     "execution_count": 289,
     "metadata": {},
     "output_type": "execute_result"
    }
   ],
   "source": [
    "from sklearn import metrics\n",
    "#Comparing the metrics of predicted lebel and real label of test data\n",
    "metrics.accuracy_score(yTest, yLogPredTest)"
   ]
  },
  {
   "cell_type": "code",
   "execution_count": 290,
   "metadata": {},
   "outputs": [
    {
     "data": {
      "text/plain": [
       "0.9371428571428572"
      ]
     },
     "execution_count": 290,
     "metadata": {},
     "output_type": "execute_result"
    }
   ],
   "source": [
    "#Comparing the metrics of predicted lebel and real label of test data\n",
    "metrics.accuracy_score(yTrain, yLogPredTraing)"
   ]
  },
  {
   "cell_type": "code",
   "execution_count": 291,
   "metadata": {},
   "outputs": [
    {
     "data": {
      "text/plain": [
       "<matplotlib.axes._subplots.AxesSubplot at 0x2923f3d7940>"
      ]
     },
     "execution_count": 291,
     "metadata": {},
     "output_type": "execute_result"
    },
    {
     "data": {
      "image/png": "[encoded data removed]",
      "text/plain": [
       "<matplotlib.figure.Figure at 0x2923f3d7438>"
      ]
     },
     "metadata": {},
     "output_type": "display_data"
    }
   ],
   "source": [
    "#Creating a confusion matrix to understand the classification\n",
    "conf = metrics.confusion_matrix(yTest, yLogPredTest)\n",
    "sns.heatmap(conf,xticklabels=['COLLECTION','COLLECTION_PAIDOFF','PAIDOFF'],yticklabels=['COLLECTION','COLLECTION_PAIDOFF', 'PAIDOFF'],annot=True, fmt=\"d\")"
   ]
  },
  {
   "cell_type": "markdown",
   "metadata": {},
   "source": [
    "### Parveen Dala<br>+91 904 141 1410<br>dParveen94@gmail.com"
   ]
  }
 ],
 "metadata": {
  "kernelspec": {
   "display_name": "Python 3",
   "language": "python",
   "name": "python3"
  },
  "language_info": {
   "codemirror_mode": {
    "name": "ipython",
    "version": 3
   },
   "file_extension": ".py",
   "mimetype": "text/x-python",
   "name": "python",
   "nbconvert_exporter": "python",
   "pygments_lexer": "ipython3",
   "version": "3.6.4"
  }
 },
 "nbformat": 4,
 "nbformat_minor": 2
}
